{
 "cells": [
  {
   "cell_type": "code",
   "execution_count": 1,
   "id": "29a99c97",
   "metadata": {},
   "outputs": [],
   "source": [
    "import pandas as pd\n",
    "import numpy as np\n",
    "import matplotlib.pyplot as plt\n",
    "import seaborn as sns"
   ]
  },
  {
   "cell_type": "code",
   "execution_count": 2,
   "id": "e6e73628",
   "metadata": {},
   "outputs": [],
   "source": [
    "data = pd.read_csv('Add_sales_data_2018.csv')"
   ]
  },
  {
   "cell_type": "code",
   "execution_count": 3,
   "id": "f894993d",
   "metadata": {},
   "outputs": [
    {
     "data": {
      "text/html": [
       "<div>\n",
       "<style scoped>\n",
       "    .dataframe tbody tr th:only-of-type {\n",
       "        vertical-align: middle;\n",
       "    }\n",
       "\n",
       "    .dataframe tbody tr th {\n",
       "        vertical-align: top;\n",
       "    }\n",
       "\n",
       "    .dataframe thead th {\n",
       "        text-align: right;\n",
       "    }\n",
       "</style>\n",
       "<table border=\"1\" class=\"dataframe\">\n",
       "  <thead>\n",
       "    <tr style=\"text-align: right;\">\n",
       "      <th></th>\n",
       "      <th>Date</th>\n",
       "      <th>Add1(in Thousands)</th>\n",
       "      <th>Add2(in Thousands)</th>\n",
       "      <th>Add3(in Thousands)</th>\n",
       "      <th>Add4(in Thousands)</th>\n",
       "      <th>Add5(in Thousands)</th>\n",
       "      <th>Profit(in Thousands)</th>\n",
       "    </tr>\n",
       "  </thead>\n",
       "  <tbody>\n",
       "    <tr>\n",
       "      <th>0</th>\n",
       "      <td>2018-10-08</td>\n",
       "      <td>208.00</td>\n",
       "      <td>222.25</td>\n",
       "      <td>206.85</td>\n",
       "      <td>216.00</td>\n",
       "      <td>215.15</td>\n",
       "      <td>4093.065</td>\n",
       "    </tr>\n",
       "    <tr>\n",
       "      <th>1</th>\n",
       "      <td>2018-10-05</td>\n",
       "      <td>217.00</td>\n",
       "      <td>218.60</td>\n",
       "      <td>205.90</td>\n",
       "      <td>210.25</td>\n",
       "      <td>209.20</td>\n",
       "      <td>4042.448</td>\n",
       "    </tr>\n",
       "    <tr>\n",
       "      <th>2</th>\n",
       "      <td>2018-10-04</td>\n",
       "      <td>223.50</td>\n",
       "      <td>227.80</td>\n",
       "      <td>216.15</td>\n",
       "      <td>217.25</td>\n",
       "      <td>218.20</td>\n",
       "      <td>4213.819</td>\n",
       "    </tr>\n",
       "    <tr>\n",
       "      <th>3</th>\n",
       "      <td>2018-10-03</td>\n",
       "      <td>230.00</td>\n",
       "      <td>237.50</td>\n",
       "      <td>225.75</td>\n",
       "      <td>226.45</td>\n",
       "      <td>227.60</td>\n",
       "      <td>4391.665</td>\n",
       "    </tr>\n",
       "    <tr>\n",
       "      <th>4</th>\n",
       "      <td>2018-10-01</td>\n",
       "      <td>234.55</td>\n",
       "      <td>234.60</td>\n",
       "      <td>221.05</td>\n",
       "      <td>230.30</td>\n",
       "      <td>230.90</td>\n",
       "      <td>4350.683</td>\n",
       "    </tr>\n",
       "  </tbody>\n",
       "</table>\n",
       "</div>"
      ],
      "text/plain": [
       "         Date  Add1(in Thousands)  Add2(in Thousands)  Add3(in Thousands)  \\\n",
       "0  2018-10-08              208.00              222.25              206.85   \n",
       "1  2018-10-05              217.00              218.60              205.90   \n",
       "2  2018-10-04              223.50              227.80              216.15   \n",
       "3  2018-10-03              230.00              237.50              225.75   \n",
       "4  2018-10-01              234.55              234.60              221.05   \n",
       "\n",
       "   Add4(in Thousands)  Add5(in Thousands)  Profit(in Thousands)  \n",
       "0              216.00              215.15              4093.065  \n",
       "1              210.25              209.20              4042.448  \n",
       "2              217.25              218.20              4213.819  \n",
       "3              226.45              227.60              4391.665  \n",
       "4              230.30              230.90              4350.683  "
      ]
     },
     "execution_count": 3,
     "metadata": {},
     "output_type": "execute_result"
    }
   ],
   "source": [
    "data.head()"
   ]
  },
  {
   "cell_type": "code",
   "execution_count": 5,
   "id": "598821c2",
   "metadata": {},
   "outputs": [
    {
     "data": {
      "text/plain": [
       "<bound method DataFrame.info of            Date  Add1(in Thousands)  Add2(in Thousands)  Add3(in Thousands)  \\\n",
       "0    2018-10-08              208.00              222.25              206.85   \n",
       "1    2018-10-05              217.00              218.60              205.90   \n",
       "2    2018-10-04              223.50              227.80              216.15   \n",
       "3    2018-10-03              230.00              237.50              225.75   \n",
       "4    2018-10-01              234.55              234.60              221.05   \n",
       "..          ...                 ...                 ...                 ...   \n",
       "200  2017-12-14              288.00              288.25              279.20   \n",
       "201  2017-12-13              290.00              292.50              282.20   \n",
       "202  2017-12-12              298.60              298.60              286.65   \n",
       "203  2017-12-11              290.00              299.55              285.90   \n",
       "204  2017-12-08              287.55              289.90              285.05   \n",
       "\n",
       "     Add4(in Thousands)  Add5(in Thousands)  Profit(in Thousands)  \n",
       "0                216.00              215.15              4093.065  \n",
       "1                210.25              209.20              4042.448  \n",
       "2                217.25              218.20              4213.819  \n",
       "3                226.45              227.60              4391.665  \n",
       "4                230.30              230.90              4350.683  \n",
       "..                  ...                 ...                   ...  \n",
       "200              284.50              284.30              5374.105  \n",
       "201              284.80              284.45              5439.655  \n",
       "202              287.45              287.80              5545.013  \n",
       "203              297.85              298.35              5565.444  \n",
       "204              288.05              288.45              5421.842  \n",
       "\n",
       "[205 rows x 7 columns]>"
      ]
     },
     "execution_count": 5,
     "metadata": {},
     "output_type": "execute_result"
    }
   ],
   "source": [
    "data.info"
   ]
  },
  {
   "cell_type": "code",
   "execution_count": 6,
   "id": "bed1c31f",
   "metadata": {},
   "outputs": [
    {
     "data": {
      "text/plain": [
       "Date                    0\n",
       "Add1(in Thousands)      0\n",
       "Add2(in Thousands)      0\n",
       "Add3(in Thousands)      0\n",
       "Add4(in Thousands)      0\n",
       "Add5(in Thousands)      0\n",
       "Profit(in Thousands)    0\n",
       "dtype: int64"
      ]
     },
     "execution_count": 6,
     "metadata": {},
     "output_type": "execute_result"
    }
   ],
   "source": [
    "data.isna().sum()"
   ]
  },
  {
   "cell_type": "markdown",
   "id": "a98c01bc",
   "metadata": {},
   "source": [
    "# check whether there is any relationship between the amount spent for advertising through five different companies and profit generated"
   ]
  },
  {
   "cell_type": "code",
   "execution_count": 7,
   "id": "dfca1fbd",
   "metadata": {},
   "outputs": [
    {
     "data": {
      "image/png": "[encoded data removed]",
      "text/plain": [
       "<Figure size 1440x1080 with 6 Axes>"
      ]
     },
     "metadata": {
      "needs_background": "light"
     },
     "output_type": "display_data"
    }
   ],
   "source": [
    "freqgraph = data.select_dtypes(include=['int32','int64','float'])\n",
    "freqgraph.hist(figsize=(20,15))\n",
    "plt.show()"
   ]
  },
  {
   "cell_type": "code",
   "execution_count": 8,
   "id": "857e5d3e",
   "metadata": {},
   "outputs": [],
   "source": [
    "# distribution of money spent is almost similar across the 5 companies"
   ]
  },
  {
   "cell_type": "code",
   "execution_count": 9,
   "id": "06b436bd",
   "metadata": {},
   "outputs": [
    {
     "data": {
      "text/plain": [
       "<AxesSubplot:>"
      ]
     },
     "execution_count": 9,
     "metadata": {},
     "output_type": "execute_result"
    },
    {
     "data": {
      "image/png": "[encoded data removed]",
      "text/plain": [
       "<Figure size 864x504 with 2 Axes>"
      ]
     },
     "metadata": {
      "needs_background": "light"
     },
     "output_type": "display_data"
    }
   ],
   "source": [
    "corrmatrix = data.corr()\n",
    "plt.subplots(figsize=(12,7))\n",
    "sns.heatmap(corrmatrix,vmin=0.95,vmax=1.1,annot=True,linewidth=2)"
   ]
  },
  {
   "cell_type": "code",
   "execution_count": 10,
   "id": "e2520bef",
   "metadata": {},
   "outputs": [],
   "source": [
    "#For further analysis all the datas are taken into account without dropping any"
   ]
  },
  {
   "cell_type": "code",
   "execution_count": 11,
   "id": "dd0f5fbc",
   "metadata": {},
   "outputs": [
    {
     "data": {
      "text/plain": [
       "Text(0.5, 1.0, 'Ad Spendings vs Profit')"
      ]
     },
     "execution_count": 11,
     "metadata": {},
     "output_type": "execute_result"
    },
    {
     "data": {
      "image/png": "[encoded data removed]",
      "text/plain": [
       "<Figure size 432x288 with 1 Axes>"
      ]
     },
     "metadata": {
      "needs_background": "light"
     },
     "output_type": "display_data"
    }
   ],
   "source": [
    "xx=data['Add1(in Thousands)']\n",
    "yy=data['Profit(in Thousands)']\n",
    "plt.scatter(x=xx,y=yy)\n",
    "xx=data['Add2(in Thousands)']\n",
    "plt.scatter(x=xx,y=yy)\n",
    "xx=data['Add3(in Thousands)']\n",
    "plt.scatter(x=xx,y=yy)\n",
    "xx=data['Add4(in Thousands)']\n",
    "plt.scatter(x=xx,y=yy)\n",
    "xx=data['Add5(in Thousands)']\n",
    "plt.scatter(x=xx,y=yy)\n",
    "plt.legend(['Add1','Add2','Add3','Add4','Add5'])\n",
    "plt.title('Ad Spendings vs Profit')"
   ]
  },
  {
   "cell_type": "code",
   "execution_count": 13,
   "id": "21911879",
   "metadata": {},
   "outputs": [],
   "source": [
    "#The high correlation and linear relation of the ad spendings and profits can be seen in these scatter plots"
   ]
  },
  {
   "cell_type": "markdown",
   "id": "46b727f6",
   "metadata": {},
   "source": [
    "# Build a regression model to predict the profit from the given data and comment your findings on it"
   ]
  },
  {
   "cell_type": "code",
   "execution_count": 14,
   "id": "8e7a8952",
   "metadata": {},
   "outputs": [],
   "source": [
    "from sklearn.model_selection import train_test_split\n",
    "\n",
    "y = data['Profit(in Thousands)']\n",
    "X = data.drop(['Profit(in Thousands)','Date'],axis=1)\n",
    "X_train,X_test,y_train,y_test = train_test_split(X,y,random_state=40,test_size=0.25)"
   ]
  },
  {
   "cell_type": "code",
   "execution_count": 16,
   "id": "4e5b5a60",
   "metadata": {},
   "outputs": [],
   "source": [
    "from sklearn import linear_model\n",
    "\n",
    "lr = linear_model.LinearRegression()"
   ]
  },
  {
   "cell_type": "code",
   "execution_count": 17,
   "id": "6ce9c5cd",
   "metadata": {},
   "outputs": [],
   "source": [
    "model = lr.fit(X_train,y_train)"
   ]
  },
  {
   "cell_type": "code",
   "execution_count": 18,
   "id": "94003c17",
   "metadata": {},
   "outputs": [],
   "source": [
    "fit_values = model.predict(X_test)"
   ]
  },
  {
   "cell_type": "code",
   "execution_count": 19,
   "id": "1f62b61f",
   "metadata": {},
   "outputs": [
    {
     "name": "stdout",
     "output_type": "stream",
     "text": [
      "\n",
      " 116    5395.217\n",
      "5      4404.686\n",
      "89     4898.776\n",
      "35     4419.421\n",
      "185    5903.253\n",
      "81     5027.633\n",
      "123    5238.366\n",
      "138    5247.011\n",
      "69     5030.451\n",
      "118    5318.100\n",
      "143    5134.657\n",
      "186    5861.830\n",
      "96     4647.356\n",
      "26     4451.999\n",
      "191    5780.799\n",
      "144    5111.806\n",
      "161    5212.949\n",
      "23     4465.950\n",
      "77     5187.445\n",
      "37     4480.363\n",
      "54     4671.113\n",
      "28     4416.136\n",
      "100    5131.898\n",
      "97     4648.834\n",
      "168    5616.791\n",
      "136    4915.682\n",
      "18     4190.965\n",
      "109    5577.150\n",
      "125    5153.977\n",
      "142    5163.322\n",
      "33     4513.600\n",
      "46     4558.651\n",
      "172    5789.791\n",
      "90     4887.296\n",
      "11     4435.571\n",
      "170    5728.804\n",
      "140    5250.150\n",
      "59     5190.814\n",
      "64     5239.060\n",
      "151    5146.949\n",
      "164    4997.719\n",
      "199    5425.371\n",
      "155    5078.636\n",
      "129    5140.372\n",
      "42     4432.864\n",
      "120    5182.368\n",
      "149    5177.610\n",
      "196    5676.934\n",
      "93     4705.198\n",
      "67     5001.615\n",
      "179    6137.800\n",
      "24     4435.174\n",
      "Name: Profit(in Thousands), dtype: float64 \t [5395.217 4404.686 4898.776 4419.421 5903.253 5027.633 5238.366 5247.011\n",
      " 5030.451 5318.1   5134.657 5861.83  4647.356 4451.999 5780.799 5111.806\n",
      " 5212.949 4465.95  5187.445 4480.363 4671.113 4416.136 5131.898 4648.834\n",
      " 5616.791 4915.682 4190.965 5577.15  5153.977 5163.322 4513.6   4558.651\n",
      " 5789.791 4887.296 4435.571 5728.804 5250.15  5190.814 5239.06  5146.949\n",
      " 4997.719 5425.371 5078.636 5140.372 4432.864 5182.368 5177.61  5676.934\n",
      " 4705.198 5001.615 6137.8   4435.174]\n"
     ]
    }
   ],
   "source": [
    "# comparing the predicted values with test values\n",
    "print('\\n', y_test,'\\t', np.transpose(fit_values))"
   ]
  },
  {
   "cell_type": "code",
   "execution_count": 20,
   "id": "052dce05",
   "metadata": {},
   "outputs": [
    {
     "name": "stdout",
     "output_type": "stream",
     "text": [
      "MSE is 3.8177566733216664e-25\n"
     ]
    }
   ],
   "source": [
    "from sklearn.metrics import mean_squared_error\n",
    "print('MSE is',mean_squared_error(y_test,fit_values))"
   ]
  },
  {
   "cell_type": "code",
   "execution_count": 21,
   "id": "e2a45cd3",
   "metadata": {},
   "outputs": [
    {
     "name": "stdout",
     "output_type": "stream",
     "text": [
      "R squared value is 1.0\n"
     ]
    }
   ],
   "source": [
    "from sklearn.metrics import r2_score\n",
    "print('R squared value is',r2_score(y_test,fit_values))"
   ]
  },
  {
   "cell_type": "code",
   "execution_count": 22,
   "id": "4ade7a1b",
   "metadata": {},
   "outputs": [
    {
     "name": "stdout",
     "output_type": "stream",
     "text": [
      "MSE is 3.8177566733216664e-25\n",
      "R squared value is 1.0\n"
     ]
    }
   ],
   "source": [
    "# checking model with lasso with different random set\n",
    "\n",
    "X_train_ls,X_test_ls,y_train_ls,y_test_ls = train_test_split(X,y,test_size=0.3)\n",
    "\n",
    "ls = linear_model.Lasso()\n",
    "model_ls = ls.fit(X_train_ls,y_train_ls)\n",
    "fit_values_ls = model.predict(X_test)\n",
    "print('MSE is',mean_squared_error(y_test,fit_values_ls))\n",
    "print('R squared value is',r2_score(y_test,fit_values))"
   ]
  },
  {
   "cell_type": "code",
   "execution_count": 23,
   "id": "6113ac7a",
   "metadata": {},
   "outputs": [
    {
     "name": "stdout",
     "output_type": "stream",
     "text": [
      "MSE is 3.8177566733216664e-25\n",
      "R squared value is 1.0\n"
     ]
    }
   ],
   "source": [
    "# checking data with SVR model\n",
    "\n",
    "from sklearn.svm import SVR\n",
    "SVR = SVR(C=8, epsilon=0.2, gamma=0.5)\n",
    "svr_model=SVR.fit(X_train,y_train) \n",
    "fit_values_svr=model.predict(X_test)\n",
    "print('MSE is',mean_squared_error(y_test,fit_values_svr))\n",
    "print('R squared value is',r2_score(y_test,fit_values_svr))"
   ]
  },
  {
   "cell_type": "markdown",
   "id": "82ce028d",
   "metadata": {},
   "source": [
    "# Predict the profit generated by the company, if they wish to spend the following amount for advertisement"
   ]
  },
  {
   "cell_type": "code",
   "execution_count": 24,
   "id": "86e500ab",
   "metadata": {},
   "outputs": [
    {
     "data": {
      "text/html": [
       "<div>\n",
       "<style scoped>\n",
       "    .dataframe tbody tr th:only-of-type {\n",
       "        vertical-align: middle;\n",
       "    }\n",
       "\n",
       "    .dataframe tbody tr th {\n",
       "        vertical-align: top;\n",
       "    }\n",
       "\n",
       "    .dataframe thead th {\n",
       "        text-align: right;\n",
       "    }\n",
       "</style>\n",
       "<table border=\"1\" class=\"dataframe\">\n",
       "  <thead>\n",
       "    <tr style=\"text-align: right;\">\n",
       "      <th></th>\n",
       "      <th>Add1(in Thousands)</th>\n",
       "      <th>Add2(in Thousands)</th>\n",
       "      <th>Add3(in Thousands)</th>\n",
       "      <th>Add4(in Thousands)</th>\n",
       "      <th>Add5(in Thousands)</th>\n",
       "    </tr>\n",
       "  </thead>\n",
       "  <tbody>\n",
       "    <tr>\n",
       "      <th>0</th>\n",
       "      <td>290</td>\n",
       "      <td>312</td>\n",
       "      <td>309</td>\n",
       "      <td>298</td>\n",
       "      <td>320</td>\n",
       "    </tr>\n",
       "  </tbody>\n",
       "</table>\n",
       "</div>"
      ],
      "text/plain": [
       "   Add1(in Thousands)  Add2(in Thousands)  Add3(in Thousands)  \\\n",
       "0                 290                 312                 309   \n",
       "\n",
       "   Add4(in Thousands)  Add5(in Thousands)  \n",
       "0                 298                 320  "
      ]
     },
     "execution_count": 24,
     "metadata": {},
     "output_type": "execute_result"
    }
   ],
   "source": [
    "# predicting the profit for following values\n",
    "X_test_2 = pd.DataFrame({\"Add1(in Thousands)\":[290], \"Add2(in Thousands)\":[312], \"Add3(in Thousands)\":[309], \"Add4(in Thousands)\":[298], \"Add5(in Thousands)\":[320]})\n",
    "X_test_2"
   ]
  },
  {
   "cell_type": "code",
   "execution_count": 27,
   "id": "78b5e7c0",
   "metadata": {},
   "outputs": [
    {
     "data": {
      "text/plain": [
       "array([5820.06])"
      ]
     },
     "execution_count": 27,
     "metadata": {},
     "output_type": "execute_result"
    }
   ],
   "source": [
    "fit_values_2 = model.predict(X_test_2)\n",
    "fit_values_2"
   ]
  },
  {
   "cell_type": "code",
   "execution_count": 29,
   "id": "d5c41076",
   "metadata": {},
   "outputs": [],
   "source": [
    "#The projected profit for this combination of ad spendings is 5820.06 Thousand"
   ]
  }
 ],
 "metadata": {
  "kernelspec": {
   "display_name": "Python 3",
   "language": "python",
   "name": "python3"
  },
  "language_info": {
   "codemirror_mode": {
    "name": "ipython",
    "version": 3
   },
   "file_extension": ".py",
   "mimetype": "text/x-python",
   "name": "python",
   "nbconvert_exporter": "python",
   "pygments_lexer": "ipython3",
   "version": "3.8.8"
  }
 },
 "nbformat": 4,
 "nbformat_minor": 5
}
